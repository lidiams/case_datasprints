{
 "cells": [
  {
   "cell_type": "markdown",
   "id": "188088d7-20aa-4f2d-8795-48fbd5569c56",
   "metadata": {},
   "source": [
    " ### Importação das bibliotecas necessárias"
   ]
  },
  {
   "cell_type": "code",
   "execution_count": 1,
   "id": "2e59ea45-0d7e-44be-874b-ee720f541ef4",
   "metadata": {},
   "outputs": [],
   "source": [
    "import pyspark\n",
    "\n",
    "from pyspark.sql import SparkSession\n",
    "from pyspark.sql.types import *\n",
    "from pyspark.sql.functions import *\n",
    "\n",
    "spark = SparkSession.builder.getOrCreate()"
   ]
  },
  {
   "cell_type": "code",
   "execution_count": 2,
   "id": "ebab68d8-43e6-45f8-8125-c8e46108a7e7",
   "metadata": {},
   "outputs": [],
   "source": [
    "import pandas as pd\n",
    "import requests \n",
    "import zipfile\n",
    "import os\n",
    "import datetime\n",
    "import seaborn as sns\n",
    "import geopandas as gpd\n",
    "import matplotlib.pyplot as plt\n",
    "import contextily as cx\n",
    "\n",
    "from io import BytesIO\n",
    "from shapely.geometry import Point, Polygon\n",
    "\n",
    "plt.style.use(\"seaborn\")\n",
    "\n",
    "import warnings\n",
    "warnings.filterwarnings('ignore')"
   ]
  },
  {
   "cell_type": "markdown",
   "id": "1e48a0e9-dd9c-4b14-a407-13894bc4077e",
   "metadata": {},
   "source": [
    "### Download dos dados"
   ]
  },
  {
   "cell_type": "code",
   "execution_count": 3,
   "id": "252728ea-5dd1-4374-bbc5-0b2db1978752",
   "metadata": {},
   "outputs": [],
   "source": [
    "# cria um diretório para armazenar o conteúdo baixado\n",
    "os.makedirs('./datasets', exist_ok = True)"
   ]
  },
  {
   "cell_type": "code",
   "execution_count": 4,
   "id": "9c25b30e-1b89-4393-b565-028d51f6b382",
   "metadata": {},
   "outputs": [],
   "source": [
    "# define a url em que os arquivos se encontram\n",
    "url = \"https://casetecnicodatasprints.s3.amazonaws.com/datasets/datasets.zip\"\n",
    "\n",
    "# download do arquivo\n",
    "filebytes = BytesIO(requests.get(url).content)\n",
    "\n",
    "# extrai o conteúdo do zipfile\n",
    "myzip = zipfile.ZipFile(filebytes)\n",
    "myzip.extractall(\"./datasets\")"
   ]
  },
  {
   "cell_type": "markdown",
   "id": "a2b97207-c363-4f0d-8a98-67c83db23dc5",
   "metadata": {},
   "source": [
    "### Criação dos DataFrames"
   ]
  },
  {
   "cell_type": "markdown",
   "id": "c8679302-4e19-408b-8ef7-5915b6a88cb0",
   "metadata": {},
   "source": [
    "#### Dataframe trips"
   ]
  },
  {
   "cell_type": "markdown",
   "id": "b8502d76-2149-4a49-b6fb-51a034b5b114",
   "metadata": {},
   "source": [
    "* Spark DataFrame"
   ]
  },
  {
   "cell_type": "code",
   "execution_count": 5,
   "id": "afc0339d-4fc8-4779-8a78-b92dc4cf7105",
   "metadata": {},
   "outputs": [],
   "source": [
    "# leitura dos arquivos json\n",
    "trips1 = spark.read.json('./datasets/data-sample_data-nyctaxi-trips-2009-json_corrigido.json')\n",
    "trips2 = spark.read.json('./datasets/data-sample_data-nyctaxi-trips-2010-json_corrigido.json')\n",
    "trips3 = spark.read.json('./datasets/data-sample_data-nyctaxi-trips-2011-json_corrigido.json')\n",
    "trips4 = spark.read.json('./datasets/data-sample_data-nyctaxi-trips-2012-json_corrigido.json')"
   ]
  },
  {
   "cell_type": "code",
   "execution_count": 6,
   "id": "7aeed671-1615-4403-a5ff-a510b2304bc4",
   "metadata": {},
   "outputs": [],
   "source": [
    "# concatena os dataframes\n",
    "trips = trips1.unionAll(trips2).unionAll(trips3).unionAll(trips4)"
   ]
  },
  {
   "cell_type": "code",
   "execution_count": 7,
   "id": "c2f2c4ba-a1b6-4452-b4dc-b8edc6c489bf",
   "metadata": {},
   "outputs": [
    {
     "name": "stdout",
     "output_type": "stream",
     "text": [
      "+--------------------+----------------+-----------------+-----------+---------------+------------+--------------------+---------------+----------------+---------+------------------+---------+----------+------------+------------+-------------+---------+\n",
      "|    dropoff_datetime|dropoff_latitude|dropoff_longitude|fare_amount|passenger_count|payment_type|     pickup_datetime|pickup_latitude|pickup_longitude|rate_code|store_and_fwd_flag|surcharge|tip_amount|tolls_amount|total_amount|trip_distance|vendor_id|\n",
      "+--------------------+----------------+-----------------+-----------+---------------+------------+--------------------+---------------+----------------+---------+------------------+---------+----------+------------+------------+-------------+---------+\n",
      "|2009-04-21T18:57:...|        40.74795|       -73.994712|        5.4|              2|        Cash|2009-04-21T18:51:...|       40.74295|      -74.004114|     null|              null|      0.0|       0.0|         0.0|         5.4|          0.8|      CMT|\n",
      "|2009-01-13T07:50:...|       40.792385|       -73.940449|       15.4|              1|        Cash|2009-01-13T07:40:...|      40.747784|      -73.996506|     null|              null|      0.0|       0.0|         0.0|        15.4|          5.4|      CMT|\n",
      "|2009-01-06T19:43:...|       40.768108|       -73.944535|        6.1|              5|        CASH|2009-01-06T19:30:...|       40.75207|       -73.95134|     null|              null|      1.0|       0.0|         0.0|         7.1|         1.67|      VTS|\n",
      "+--------------------+----------------+-----------------+-----------+---------------+------------+--------------------+---------------+----------------+---------+------------------+---------+----------+------------+------------+-------------+---------+\n",
      "only showing top 3 rows\n",
      "\n"
     ]
    }
   ],
   "source": [
    "trips.show(3)"
   ]
  },
  {
   "cell_type": "code",
   "execution_count": 8,
   "id": "88aa66be-9d03-43ec-b7ad-7c3d87a676ab",
   "metadata": {},
   "outputs": [],
   "source": [
    "# cria uma view do dataframe\n",
    "trips.createOrReplaceTempView(\"trips\")"
   ]
  },
  {
   "cell_type": "markdown",
   "id": "5e83a824-934e-432b-afcb-33d766dc3b34",
   "metadata": {},
   "source": [
    "* Pandas DataFrame"
   ]
  },
  {
   "cell_type": "code",
   "execution_count": 9,
   "id": "d4532a95-05c8-414d-8550-0993ce81e6ff",
   "metadata": {},
   "outputs": [],
   "source": [
    "# leitura dos arquivos json\n",
    "trips1 = pd.read_json('./datasets/data-sample_data-nyctaxi-trips-2009-json_corrigido.json', lines = True)\n",
    "trips2 = pd.read_json('./datasets/data-sample_data-nyctaxi-trips-2010-json_corrigido.json', lines = True)\n",
    "trips3 = pd.read_json('./datasets/data-sample_data-nyctaxi-trips-2011-json_corrigido.json', lines = True)\n",
    "trips4 = pd.read_json('./datasets/data-sample_data-nyctaxi-trips-2012-json_corrigido.json', lines = True)"
   ]
  },
  {
   "cell_type": "code",
   "execution_count": 10,
   "id": "ee8034b6-9709-4064-8459-bc2ebaa13347",
   "metadata": {},
   "outputs": [],
   "source": [
    "# concatena os dataframes\n",
    "trips_pd = pd.concat([trips1, trips2, trips3, trips4])"
   ]
  },
  {
   "cell_type": "code",
   "execution_count": 11,
   "id": "13a9c8d6-b22c-460d-a3aa-3c4cea77e056",
   "metadata": {},
   "outputs": [
    {
     "data": {
      "text/html": [
       "<div>\n",
       "<style scoped>\n",
       "    .dataframe tbody tr th:only-of-type {\n",
       "        vertical-align: middle;\n",
       "    }\n",
       "\n",
       "    .dataframe tbody tr th {\n",
       "        vertical-align: top;\n",
       "    }\n",
       "\n",
       "    .dataframe thead th {\n",
       "        text-align: right;\n",
       "    }\n",
       "</style>\n",
       "<table border=\"1\" class=\"dataframe\">\n",
       "  <thead>\n",
       "    <tr style=\"text-align: right;\">\n",
       "      <th></th>\n",
       "      <th>vendor_id</th>\n",
       "      <th>pickup_datetime</th>\n",
       "      <th>dropoff_datetime</th>\n",
       "      <th>passenger_count</th>\n",
       "      <th>trip_distance</th>\n",
       "      <th>pickup_longitude</th>\n",
       "      <th>pickup_latitude</th>\n",
       "      <th>rate_code</th>\n",
       "      <th>store_and_fwd_flag</th>\n",
       "      <th>dropoff_longitude</th>\n",
       "      <th>dropoff_latitude</th>\n",
       "      <th>payment_type</th>\n",
       "      <th>fare_amount</th>\n",
       "      <th>surcharge</th>\n",
       "      <th>tip_amount</th>\n",
       "      <th>tolls_amount</th>\n",
       "      <th>total_amount</th>\n",
       "    </tr>\n",
       "  </thead>\n",
       "  <tbody>\n",
       "    <tr>\n",
       "      <th>0</th>\n",
       "      <td>CMT</td>\n",
       "      <td>2009-04-21T18:51:11.767205+00:00</td>\n",
       "      <td>2009-04-21T18:57:09.433767+00:00</td>\n",
       "      <td>2</td>\n",
       "      <td>0.80</td>\n",
       "      <td>-74.004114</td>\n",
       "      <td>40.742950</td>\n",
       "      <td>NaN</td>\n",
       "      <td>NaN</td>\n",
       "      <td>-73.994712</td>\n",
       "      <td>40.747950</td>\n",
       "      <td>Cash</td>\n",
       "      <td>5.4</td>\n",
       "      <td>0.0</td>\n",
       "      <td>0.0</td>\n",
       "      <td>0.0</td>\n",
       "      <td>5.4</td>\n",
       "    </tr>\n",
       "    <tr>\n",
       "      <th>1</th>\n",
       "      <td>CMT</td>\n",
       "      <td>2009-01-13T07:40:07.639754+00:00</td>\n",
       "      <td>2009-01-13T07:50:36.386011+00:00</td>\n",
       "      <td>1</td>\n",
       "      <td>5.40</td>\n",
       "      <td>-73.996506</td>\n",
       "      <td>40.747784</td>\n",
       "      <td>NaN</td>\n",
       "      <td>NaN</td>\n",
       "      <td>-73.940449</td>\n",
       "      <td>40.792385</td>\n",
       "      <td>Cash</td>\n",
       "      <td>15.4</td>\n",
       "      <td>0.0</td>\n",
       "      <td>0.0</td>\n",
       "      <td>0.0</td>\n",
       "      <td>15.4</td>\n",
       "    </tr>\n",
       "    <tr>\n",
       "      <th>2</th>\n",
       "      <td>VTS</td>\n",
       "      <td>2009-01-06T19:30:44.142187+00:00</td>\n",
       "      <td>2009-01-06T19:43:09.908429+00:00</td>\n",
       "      <td>5</td>\n",
       "      <td>1.67</td>\n",
       "      <td>-73.951340</td>\n",
       "      <td>40.752070</td>\n",
       "      <td>NaN</td>\n",
       "      <td>NaN</td>\n",
       "      <td>-73.944535</td>\n",
       "      <td>40.768108</td>\n",
       "      <td>CASH</td>\n",
       "      <td>6.1</td>\n",
       "      <td>1.0</td>\n",
       "      <td>0.0</td>\n",
       "      <td>0.0</td>\n",
       "      <td>7.1</td>\n",
       "    </tr>\n",
       "  </tbody>\n",
       "</table>\n",
       "</div>"
      ],
      "text/plain": [
       "  vendor_id                   pickup_datetime  \\\n",
       "0       CMT  2009-04-21T18:51:11.767205+00:00   \n",
       "1       CMT  2009-01-13T07:40:07.639754+00:00   \n",
       "2       VTS  2009-01-06T19:30:44.142187+00:00   \n",
       "\n",
       "                   dropoff_datetime  passenger_count  trip_distance  \\\n",
       "0  2009-04-21T18:57:09.433767+00:00                2           0.80   \n",
       "1  2009-01-13T07:50:36.386011+00:00                1           5.40   \n",
       "2  2009-01-06T19:43:09.908429+00:00                5           1.67   \n",
       "\n",
       "   pickup_longitude  pickup_latitude  rate_code  store_and_fwd_flag  \\\n",
       "0        -74.004114        40.742950        NaN                 NaN   \n",
       "1        -73.996506        40.747784        NaN                 NaN   \n",
       "2        -73.951340        40.752070        NaN                 NaN   \n",
       "\n",
       "   dropoff_longitude  dropoff_latitude payment_type  fare_amount  surcharge  \\\n",
       "0         -73.994712         40.747950         Cash          5.4        0.0   \n",
       "1         -73.940449         40.792385         Cash         15.4        0.0   \n",
       "2         -73.944535         40.768108         CASH          6.1        1.0   \n",
       "\n",
       "   tip_amount  tolls_amount  total_amount  \n",
       "0         0.0           0.0           5.4  \n",
       "1         0.0           0.0          15.4  \n",
       "2         0.0           0.0           7.1  "
      ]
     },
     "execution_count": 11,
     "metadata": {},
     "output_type": "execute_result"
    }
   ],
   "source": [
    "trips_pd.head(3)"
   ]
  },
  {
   "cell_type": "markdown",
   "id": "69060bd4-2512-428c-a637-da164ede5b26",
   "metadata": {},
   "source": [
    "#### DataFrame vendor"
   ]
  },
  {
   "cell_type": "markdown",
   "id": "ea2c4c91-d187-4b74-a047-d507b8cd6824",
   "metadata": {},
   "source": [
    "* Spark DataFrame"
   ]
  },
  {
   "cell_type": "code",
   "execution_count": 12,
   "id": "58acf059-21a5-489e-a084-27187ab598b3",
   "metadata": {},
   "outputs": [],
   "source": [
    "# leitura do arquivo csv\n",
    "vendor = spark.read.csv(\"./datasets/data-vendor_lookup-csv.csv\", sep = \",\", header=\"true\")"
   ]
  },
  {
   "cell_type": "code",
   "execution_count": 13,
   "id": "98311d41-9ec9-42aa-a8fc-3b33d984035f",
   "metadata": {},
   "outputs": [
    {
     "name": "stdout",
     "output_type": "stream",
     "text": [
      "+---------+--------------------+--------------------+--------+-----+-----+-------+--------------------+-------+\n",
      "|vendor_id|                name|             address|    city|state|  zip|country|             contact|current|\n",
      "+---------+--------------------+--------------------+--------+-----+-----+-------+--------------------+-------+\n",
      "|      CMT|Creative Mobile T...|950 4th Road Suit...|Brooklyn|   NY|11210|    USA|contactCMT@gmail.com|    Yes|\n",
      "|      VTS|        VeriFone Inc|       26 Summit St.|Flushing|   NY|11354|    USA|   admin@vtstaxi.com|    Yes|\n",
      "|      DDS|Dependable Driver...|8554 North Homest...|   Bronx|   NY|10472|    USA|          9778896500|    Yes|\n",
      "+---------+--------------------+--------------------+--------+-----+-----+-------+--------------------+-------+\n",
      "only showing top 3 rows\n",
      "\n"
     ]
    }
   ],
   "source": [
    "vendor.show(3)"
   ]
  },
  {
   "cell_type": "code",
   "execution_count": 14,
   "id": "921b2286-a5fc-41ff-a5d4-f627316b598b",
   "metadata": {},
   "outputs": [],
   "source": [
    "# cria uma view do dataframe\n",
    "vendor.createOrReplaceTempView(\"vendor\")"
   ]
  },
  {
   "cell_type": "markdown",
   "id": "94c9db3d-e1f7-4417-b945-132353ce15ff",
   "metadata": {},
   "source": [
    "* Pandas DataFrame"
   ]
  },
  {
   "cell_type": "code",
   "execution_count": 15,
   "id": "2ceaa31d-01aa-455d-a94f-db9f802f975a",
   "metadata": {},
   "outputs": [],
   "source": [
    "# leitura do arquivo csv\n",
    "vendor_pd = pd.read_csv('./datasets/data-vendor_lookup-csv.csv')"
   ]
  },
  {
   "cell_type": "code",
   "execution_count": 16,
   "id": "5c94ecc2-d6d3-4f90-b149-5851393e0149",
   "metadata": {},
   "outputs": [
    {
     "data": {
      "text/html": [
       "<div>\n",
       "<style scoped>\n",
       "    .dataframe tbody tr th:only-of-type {\n",
       "        vertical-align: middle;\n",
       "    }\n",
       "\n",
       "    .dataframe tbody tr th {\n",
       "        vertical-align: top;\n",
       "    }\n",
       "\n",
       "    .dataframe thead th {\n",
       "        text-align: right;\n",
       "    }\n",
       "</style>\n",
       "<table border=\"1\" class=\"dataframe\">\n",
       "  <thead>\n",
       "    <tr style=\"text-align: right;\">\n",
       "      <th></th>\n",
       "      <th>vendor_id</th>\n",
       "      <th>name</th>\n",
       "      <th>address</th>\n",
       "      <th>city</th>\n",
       "      <th>state</th>\n",
       "      <th>zip</th>\n",
       "      <th>country</th>\n",
       "      <th>contact</th>\n",
       "      <th>current</th>\n",
       "    </tr>\n",
       "  </thead>\n",
       "  <tbody>\n",
       "    <tr>\n",
       "      <th>0</th>\n",
       "      <td>CMT</td>\n",
       "      <td>Creative Mobile Technologies, LLC</td>\n",
       "      <td>950 4th Road Suite 78</td>\n",
       "      <td>Brooklyn</td>\n",
       "      <td>NY</td>\n",
       "      <td>11210</td>\n",
       "      <td>USA</td>\n",
       "      <td>contactCMT@gmail.com</td>\n",
       "      <td>Yes</td>\n",
       "    </tr>\n",
       "    <tr>\n",
       "      <th>1</th>\n",
       "      <td>VTS</td>\n",
       "      <td>VeriFone Inc</td>\n",
       "      <td>26 Summit St.</td>\n",
       "      <td>Flushing</td>\n",
       "      <td>NY</td>\n",
       "      <td>11354</td>\n",
       "      <td>USA</td>\n",
       "      <td>admin@vtstaxi.com</td>\n",
       "      <td>Yes</td>\n",
       "    </tr>\n",
       "    <tr>\n",
       "      <th>2</th>\n",
       "      <td>DDS</td>\n",
       "      <td>Dependable Driver Service, Inc</td>\n",
       "      <td>8554 North Homestead St.</td>\n",
       "      <td>Bronx</td>\n",
       "      <td>NY</td>\n",
       "      <td>10472</td>\n",
       "      <td>USA</td>\n",
       "      <td>9778896500</td>\n",
       "      <td>Yes</td>\n",
       "    </tr>\n",
       "  </tbody>\n",
       "</table>\n",
       "</div>"
      ],
      "text/plain": [
       "  vendor_id                               name                   address  \\\n",
       "0       CMT  Creative Mobile Technologies, LLC     950 4th Road Suite 78   \n",
       "1       VTS                       VeriFone Inc             26 Summit St.   \n",
       "2       DDS     Dependable Driver Service, Inc  8554 North Homestead St.   \n",
       "\n",
       "       city state    zip country               contact current  \n",
       "0  Brooklyn    NY  11210     USA  contactCMT@gmail.com     Yes  \n",
       "1  Flushing    NY  11354     USA     admin@vtstaxi.com     Yes  \n",
       "2     Bronx    NY  10472     USA            9778896500     Yes  "
      ]
     },
     "execution_count": 16,
     "metadata": {},
     "output_type": "execute_result"
    }
   ],
   "source": [
    "vendor_pd.head(3)"
   ]
  },
  {
   "cell_type": "markdown",
   "id": "61ceef41-f2b6-4de4-bfcd-aa0361ff0418",
   "metadata": {},
   "source": [
    "#### DataFrame payment"
   ]
  },
  {
   "cell_type": "markdown",
   "id": "89ebee87-ee95-44a8-a30c-4fe4855d4456",
   "metadata": {},
   "source": [
    "* Pandas DataFrame"
   ]
  },
  {
   "cell_type": "code",
   "execution_count": 17,
   "id": "969ccc76-09a3-403d-b5b3-ec455ce2b884",
   "metadata": {},
   "outputs": [],
   "source": [
    "# leitura do arquivo csv\n",
    "payment_pd = pd.read_csv('./datasets/data-payment_lookup-csv.csv', skiprows = 1)"
   ]
  },
  {
   "cell_type": "code",
   "execution_count": 18,
   "id": "f558ab8a-4ffb-436a-9cc2-168ac7950e2b",
   "metadata": {},
   "outputs": [
    {
     "data": {
      "text/html": [
       "<div>\n",
       "<style scoped>\n",
       "    .dataframe tbody tr th:only-of-type {\n",
       "        vertical-align: middle;\n",
       "    }\n",
       "\n",
       "    .dataframe tbody tr th {\n",
       "        vertical-align: top;\n",
       "    }\n",
       "\n",
       "    .dataframe thead th {\n",
       "        text-align: right;\n",
       "    }\n",
       "</style>\n",
       "<table border=\"1\" class=\"dataframe\">\n",
       "  <thead>\n",
       "    <tr style=\"text-align: right;\">\n",
       "      <th></th>\n",
       "      <th>payment_type</th>\n",
       "      <th>payment_lookup</th>\n",
       "    </tr>\n",
       "  </thead>\n",
       "  <tbody>\n",
       "    <tr>\n",
       "      <th>0</th>\n",
       "      <td>Cas</td>\n",
       "      <td>Cash</td>\n",
       "    </tr>\n",
       "    <tr>\n",
       "      <th>1</th>\n",
       "      <td>CAS</td>\n",
       "      <td>Cash</td>\n",
       "    </tr>\n",
       "    <tr>\n",
       "      <th>2</th>\n",
       "      <td>Cre</td>\n",
       "      <td>Credit</td>\n",
       "    </tr>\n",
       "  </tbody>\n",
       "</table>\n",
       "</div>"
      ],
      "text/plain": [
       "  payment_type payment_lookup\n",
       "0          Cas           Cash\n",
       "1          CAS           Cash\n",
       "2          Cre         Credit"
      ]
     },
     "execution_count": 18,
     "metadata": {},
     "output_type": "execute_result"
    }
   ],
   "source": [
    "payment_pd.head(3)"
   ]
  },
  {
   "cell_type": "markdown",
   "id": "5bcfb1b4-572a-4735-9457-a481e3eb09ef",
   "metadata": {},
   "source": [
    "## Transformações"
   ]
  },
  {
   "cell_type": "markdown",
   "id": "771b65aa-5c64-4b85-93b3-1029e9cac801",
   "metadata": {},
   "source": [
    "#### DataFrame trips"
   ]
  },
  {
   "cell_type": "code",
   "execution_count": 19,
   "id": "42f366b4-d6fa-4db8-b4fd-a0c408130f79",
   "metadata": {},
   "outputs": [],
   "source": [
    "# mesclando dataframes, para que as questões sejam respondidas com maiores detalhes\n",
    "\n",
    "# adiciona as colunas do dataframe vendor no dataframe trips_pd \n",
    "trips_merge = pd.merge(trips_pd, vendor_pd, how = 'left', on = 'vendor_id')\n",
    "\n",
    "# adiciona as colunas do dataframe payment no dataframe trips_pd\n",
    "trips_pd = pd.merge(trips_merge, payment_pd, how = 'left', on = 'payment_type')"
   ]
  },
  {
   "cell_type": "code",
   "execution_count": 20,
   "id": "bdae174c-9dcf-439e-b8a0-80c00cd62e28",
   "metadata": {},
   "outputs": [],
   "source": [
    "# converte as colunas dropoff_datetime e pickup_datetime para o tipo datetime\n",
    "trips_pd[\"dropoff_datetime\"] = trips_pd[\"dropoff_datetime\"].astype(\"datetime64\")\n",
    "trips_pd[\"pickup_datetime\"] = trips_pd[\"pickup_datetime\"].astype(\"datetime64\")\n",
    "\n",
    "# calcula o tempo total da viagem\n",
    "trips_pd['total_travel_time'] = trips_pd['dropoff_datetime'] - trips_pd['pickup_datetime']"
   ]
  },
  {
   "cell_type": "markdown",
   "id": "d8886a70-5776-41a4-91fc-930a65f0c9fe",
   "metadata": {},
   "source": [
    "# ***Quesitos mínimos***"
   ]
  },
  {
   "cell_type": "markdown",
   "id": "fbf8343e-7b5c-45a4-b93b-d2134db3224c",
   "metadata": {},
   "source": [
    "## **1. Qual a distância média percorrida por viagens com no máximo 2 passageiros**;"
   ]
  },
  {
   "cell_type": "markdown",
   "id": "cb26645c-9694-4a3e-8ff8-b382b72b4a68",
   "metadata": {},
   "source": [
    "### ● Resolução com Spark SQL"
   ]
  },
  {
   "cell_type": "code",
   "execution_count": null,
   "id": "0c78c35a-f8bb-428c-8d10-e20b1f6cf260",
   "metadata": {},
   "outputs": [],
   "source": [
    "# cálculo da distância média\n",
    "distancia = spark.sql(\"SELECT AVG(trip_distance) distancia_media FROM trips WHERE passenger_count <= 2\")\n",
    "distancia.show()"
   ]
  },
  {
   "cell_type": "markdown",
   "id": "8ad537db-22f4-4110-8588-62a7e96bfad0",
   "metadata": {},
   "source": [
    "### ● Resolução com Pandas DataFrame"
   ]
  },
  {
   "cell_type": "code",
   "execution_count": null,
   "id": "c263f0ce-4ed8-43b5-8282-a2e49242f2da",
   "metadata": {},
   "outputs": [],
   "source": [
    "# cálculo da distância média\n",
    "trips_pd.loc[\n",
    "    (trips_pd.passenger_count <= 2)  \n",
    "].trip_distance.mean()"
   ]
  },
  {
   "cell_type": "markdown",
   "id": "8bb52092-6864-483f-a7be-45df8bc12a14",
   "metadata": {},
   "source": [
    "## **2. Quais os 3 maiores vendors em quantidade total de dinheiro arrecadado**;"
   ]
  },
  {
   "cell_type": "markdown",
   "id": "88a4bcc4-a8ca-4520-b6dc-8f3c6b44a66b",
   "metadata": {},
   "source": [
    "### ● Resolução com Spark SQL"
   ]
  },
  {
   "cell_type": "code",
   "execution_count": null,
   "id": "9a1f1cd8-113f-465c-8909-f866b6d1a93c",
   "metadata": {},
   "outputs": [],
   "source": [
    "# junta os dataframes trips e vendor\n",
    "top_vendors = trips.join(vendor, \"vendor_id\")"
   ]
  },
  {
   "cell_type": "code",
   "execution_count": null,
   "id": "18afe29a-f92b-43d9-8a33-d9cd99e238c6",
   "metadata": {},
   "outputs": [],
   "source": [
    "# cria uma view do dataframe top_vendors\n",
    "top_vendors.createOrReplaceTempView(\"top_vendors\")"
   ]
  },
  {
   "cell_type": "code",
   "execution_count": null,
   "id": "23c89063-4683-4cde-b580-138e15369e5f",
   "metadata": {},
   "outputs": [],
   "source": [
    "# seleciona a coluna name da view top_vendors e soma o total de dinheiro arrecadado por cada um \n",
    "top_v = spark.sql(\"\"\"SELECT name, format_number(SUM(total_amount),2) total \n",
    "                FROM top_vendors GROUP BY vendor_id, name \n",
    "                ORDER BY SUM(total_amount) DESC LIMIT 3\"\"\")\n",
    "top_v.show(truncate = False)"
   ]
  },
  {
   "cell_type": "markdown",
   "id": "b059d2a9-b0e9-45f7-ad5e-113a9136b34f",
   "metadata": {},
   "source": [
    "### ● Resolução com Pandas DataFrame"
   ]
  },
  {
   "cell_type": "code",
   "execution_count": null,
   "id": "ee5f6e14-2be5-46bc-8483-7b403f35a62f",
   "metadata": {},
   "outputs": [],
   "source": [
    "# mostra apenas duas casas decimais\n",
    "pd.set_option('display.float_format', '{:.2f}'.format)\n",
    "\n",
    "# calcula o total arrecadado por cada vendor e mostra em um dataframe\n",
    "top_vendors_pd = trips_pd.groupby('name')['total_amount'].sum().reset_index()\n",
    "top_vendors_pd.sort_values(by='total_amount')[3:0:-1].reset_index(drop=True)"
   ]
  },
  {
   "cell_type": "markdown",
   "id": "6b69c1b6-5602-42f1-8161-542bd6d35886",
   "metadata": {},
   "source": [
    "## **3. Faça um histograma da distribuição mensal, nos 4 anos, de corridas pagas em dinheiro**;"
   ]
  },
  {
   "cell_type": "markdown",
   "id": "95553f52-ef06-42e3-a161-57c53f326898",
   "metadata": {},
   "source": [
    "### ● Resolução com Pandas DataFrame"
   ]
  },
  {
   "cell_type": "code",
   "execution_count": null,
   "id": "6553d5fb-92d2-4d2c-8142-911297ca75ae",
   "metadata": {},
   "outputs": [],
   "source": [
    "# cria uma cópia das colunas selecionadas do dataframe trips_pd\n",
    "trips_cash = trips_pd[['dropoff_datetime','payment_lookup']].copy()"
   ]
  },
  {
   "cell_type": "code",
   "execution_count": null,
   "id": "5fddbc1c-3339-4ad0-b4ce-e177ed6f5334",
   "metadata": {},
   "outputs": [],
   "source": [
    "# seleciona apenas as viagens pagas em dinheiro\n",
    "trips_cash = trips_cash.loc[trips_cash[\"payment_lookup\"] == \"Cash\"]"
   ]
  },
  {
   "cell_type": "code",
   "execution_count": null,
   "id": "22876fe0-83b3-4399-a2e3-c424c726b4c8",
   "metadata": {},
   "outputs": [],
   "source": [
    "# reseta o index do dataframe\n",
    "trips_cash.reset_index(inplace=True, drop=True)"
   ]
  },
  {
   "cell_type": "code",
   "execution_count": null,
   "id": "b3570b8c-8d16-4269-95ce-cb32921d6093",
   "metadata": {},
   "outputs": [],
   "source": [
    "# Cria novas colunas para ano e mês\n",
    "trips_cash['year'] = trips_cash['dropoff_datetime'].dt.year\n",
    "trips_cash['month'] = trips_cash['dropoff_datetime'].dt.month\n",
    "trips_cash = trips_cash.drop('dropoff_datetime', axis = 1)"
   ]
  },
  {
   "cell_type": "code",
   "execution_count": null,
   "id": "b9b2b2dc-4928-47e9-8915-3de8378a4875",
   "metadata": {},
   "outputs": [],
   "source": [
    "# conta quantas corridas foram pagas em dinheiro por dia e cria uma nova coluna\n",
    "trips_cash['total'] = trips_cash.groupby(['year','month'])['payment_lookup'].transform('count')"
   ]
  },
  {
   "cell_type": "code",
   "execution_count": null,
   "id": "b3e906d6-38e7-4110-902a-f1e4e788031d",
   "metadata": {},
   "outputs": [],
   "source": [
    "# remove linhas duplicadas\n",
    "trips_cash = trips_cash.drop_duplicates()"
   ]
  },
  {
   "cell_type": "code",
   "execution_count": null,
   "id": "946aeec7-21df-47f9-b4f2-c451de2ecd56",
   "metadata": {},
   "outputs": [],
   "source": [
    "trips_cash.reset_index(inplace=True, drop=True)"
   ]
  },
  {
   "cell_type": "code",
   "execution_count": null,
   "id": "9dc89c89-7d7f-48a6-93e3-9340bd3206ad",
   "metadata": {},
   "outputs": [],
   "source": [
    "# construção do gráfico\n",
    "sns.color_palette(\"tab10\")\n",
    "sns.catplot(x=\"year\", y=\"total\", hue=\"month\", kind=\"bar\", data=trips_cash,\\\n",
    "           height=8.27, aspect=11.7/8.27, palette=\"Set2\")\\\n",
    ".set(title='Rides paid with cash - monthly distribution (2009-2012)');"
   ]
  },
  {
   "cell_type": "markdown",
   "id": "6043bddf-4a4f-4b8f-953c-057de7b368b8",
   "metadata": {},
   "source": [
    "## **4. Faça um gráfico de série temporal contando a quantidade de gorjetas de cada dia, nos últimos 3 meses de 2012.**"
   ]
  },
  {
   "cell_type": "markdown",
   "id": "ddc2105d-a611-4870-a545-7da5212eab1d",
   "metadata": {},
   "source": [
    "### ● Resolução com Pandas DataFrame"
   ]
  },
  {
   "cell_type": "code",
   "execution_count": null,
   "id": "38b2d52c-c96b-4caf-9eae-2fba7a69cb77",
   "metadata": {},
   "outputs": [],
   "source": [
    "# cria uma cópia das colunas dropoff_datetime e tip_amount do dataframe trips_pd\n",
    "trips_tips = trips_pd[['dropoff_datetime','tip_amount']].copy()"
   ]
  },
  {
   "cell_type": "code",
   "execution_count": null,
   "id": "af2d2f25-15f5-4acc-ad61-942c6cf00f06",
   "metadata": {},
   "outputs": [],
   "source": [
    "# filtra as linhas dos 3 últimos meses de 2012 em que houveram gorjetas\n",
    "trips_tips = trips_tips.loc[\n",
    "    (trips_tips['dropoff_datetime'].dt.year == 2012) &\n",
    "    (trips_tips['dropoff_datetime'].dt.month >= 10) &\n",
    "    (trips_tips['tip_amount'] > 0)]"
   ]
  },
  {
   "cell_type": "code",
   "execution_count": null,
   "id": "a68ab770-731f-430d-8ccd-2d817d0324df",
   "metadata": {},
   "outputs": [],
   "source": [
    "trips_tips.reset_index(inplace=True, drop=True)"
   ]
  },
  {
   "cell_type": "code",
   "execution_count": null,
   "id": "42845b4f-1ce8-4b9e-b8f0-7b539a8978fa",
   "metadata": {},
   "outputs": [],
   "source": [
    "# Cria novas colunas para ano e mês\n",
    "trips_tips['month'] = trips_tips['dropoff_datetime'].dt.month\n",
    "trips_tips['day'] = trips_tips['dropoff_datetime'].dt.day\n",
    "trips_tips = trips_tips.drop('dropoff_datetime', axis=1)"
   ]
  },
  {
   "cell_type": "code",
   "execution_count": null,
   "id": "f451e284-c58b-4eb4-a9eb-058b9529e0eb",
   "metadata": {},
   "outputs": [],
   "source": [
    "# conta a quantidade de gorjetas por dia, agrupadas por mês\n",
    "trips_tips['total'] = trips_tips.groupby(['month','day'])['tip_amount'].transform('count')"
   ]
  },
  {
   "cell_type": "code",
   "execution_count": null,
   "id": "1c8f1917-19a0-445f-9000-51651b99a685",
   "metadata": {},
   "outputs": [],
   "source": [
    "trips_tips = trips_tips.drop('tip_amount', axis=1)\n",
    "trips_tips = trips_tips.drop_duplicates()"
   ]
  },
  {
   "cell_type": "code",
   "execution_count": null,
   "id": "08c1c1f3-c780-433e-aac0-d612b849ff67",
   "metadata": {},
   "outputs": [],
   "source": [
    "# constrói o gráfico\n",
    "sns.lineplot(x='day', y='total', data = trips_tips)\\\n",
    ".set(title='Number of tips each day - last 3 months of 2012');"
   ]
  },
  {
   "cell_type": "markdown",
   "id": "547a9a1e-35cd-405f-9354-c355569d53ac",
   "metadata": {},
   "source": [
    "# ***Quesitos bônus***"
   ]
  },
  {
   "cell_type": "markdown",
   "id": "174b6a26-e826-4718-b74a-0c81ba0542f4",
   "metadata": {},
   "source": [
    "## **● Qual o tempo médio das corridas nos dias de sábado e domingo;**"
   ]
  },
  {
   "cell_type": "markdown",
   "id": "eba35124-918b-47ba-9eca-3b906cf1ae6d",
   "metadata": {},
   "source": [
    "### ● Resolução com Pandas DataFrame"
   ]
  },
  {
   "cell_type": "code",
   "execution_count": null,
   "id": "b3c7c1a6-ca11-4a86-92d0-0aea76b5a05b",
   "metadata": {},
   "outputs": [],
   "source": [
    "# seleciona apenas os dias de sábado e domingo e calcula a média do tempo de duração das corridas\n",
    "avg_time = trips_pd.loc[\n",
    "    (trips_pd['dropoff_datetime'].dt.day_name() == 'Saturday') |\n",
    "    (trips_pd['dropoff_datetime'].dt.day_name() == 'Sunday')\n",
    "].total_travel_time.mean()"
   ]
  },
  {
   "cell_type": "code",
   "execution_count": null,
   "id": "3e43d7b7-f5c9-4e9b-90db-fddb176b2bfe",
   "metadata": {},
   "outputs": [],
   "source": [
    "print('O tempo médio das corridas nos dias de sábado e domingo é de', avg_time)"
   ]
  },
  {
   "cell_type": "markdown",
   "id": "87a457a1-452e-467b-8bff-2743e3423e82",
   "metadata": {},
   "source": [
    "## **● Fazer uma visualização em mapa com latitude e longitude de pickups and dropoffs no ano de 2010;**"
   ]
  },
  {
   "cell_type": "markdown",
   "id": "204ee2d1-a211-4c3f-ae57-77643acce36f",
   "metadata": {},
   "source": [
    "### ● Pickups map"
   ]
  },
  {
   "cell_type": "code",
   "execution_count": null,
   "id": "62109a35-0140-4501-b8a6-11157e333481",
   "metadata": {},
   "outputs": [],
   "source": [
    "# CRS -> Coordinate Reference Systems, para a visualização dos dados no mapa\n",
    "crs = {'init':'epsg:4326'}"
   ]
  },
  {
   "cell_type": "code",
   "execution_count": null,
   "id": "0ccc4382-c6c9-4754-b4c6-a7c97461389a",
   "metadata": {},
   "outputs": [],
   "source": [
    "geodf = trips_pd[['dropoff_datetime','pickup_longitude', 'pickup_latitude', 'dropoff_longitude', 'dropoff_latitude']].copy()"
   ]
  },
  {
   "cell_type": "code",
   "execution_count": null,
   "id": "f99590d9-cc8c-4d22-ab7a-b3b05292e00a",
   "metadata": {},
   "outputs": [],
   "source": [
    "# remove as linhas que não são do ano de 2010\n",
    "geodf = geodf.drop(geodf[geodf['dropoff_datetime'].dt.year != 2010].index)"
   ]
  },
  {
   "cell_type": "code",
   "execution_count": null,
   "id": "04818d0a-667e-4148-bcaa-87432b272c37",
   "metadata": {},
   "outputs": [],
   "source": [
    "geodf.reset_index(inplace=True, drop=True)"
   ]
  },
  {
   "cell_type": "code",
   "execution_count": null,
   "id": "82d297b5-855c-4ee9-a55c-fae02898f4e4",
   "metadata": {},
   "outputs": [],
   "source": [
    "# cria pontos a partir da longitude e latitude e adiciona na coluna geometry \n",
    "geometry = [Point(xy) for xy in zip(geodf['pickup_longitude'], geodf['pickup_latitude'])]\n",
    "geometry[:3]"
   ]
  },
  {
   "cell_type": "code",
   "execution_count": null,
   "id": "fa49bc5f-0eb8-41f3-a6e0-719e7e3c03c8",
   "metadata": {},
   "outputs": [],
   "source": [
    "geo_df = gpd.GeoDataFrame(geodf, crs = crs, geometry = geometry)"
   ]
  },
  {
   "cell_type": "code",
   "execution_count": null,
   "id": "f65d8751-0da5-46c4-9222-47df308c9c5d",
   "metadata": {},
   "outputs": [],
   "source": [
    "geo1 = geo_df[['geometry','dropoff_datetime']].copy()"
   ]
  },
  {
   "cell_type": "code",
   "execution_count": null,
   "id": "faeff8a3-cb53-4e63-9ad3-9241c0e1eda1",
   "metadata": {},
   "outputs": [],
   "source": [
    "pickup_map = geo1.to_crs(epsg=3857)"
   ]
  },
  {
   "cell_type": "code",
   "execution_count": null,
   "id": "98e44364-d0a7-464e-9628-d6736a061aa0",
   "metadata": {},
   "outputs": [],
   "source": [
    "# visualização dos pontos no mapa\n",
    "ax = pickup_map.plot(figsize=(15, 15), alpha=0.5, edgecolor='k')\n",
    "cx.add_basemap(ax, source=cx.providers.Stamen.TonerLite)"
   ]
  },
  {
   "cell_type": "markdown",
   "id": "88ade790-5044-4747-b559-e5c73116273c",
   "metadata": {},
   "source": [
    "### ● Dropoffs map"
   ]
  },
  {
   "cell_type": "code",
   "execution_count": null,
   "id": "3f53763e-571c-4148-a1eb-4c0fb83f311e",
   "metadata": {},
   "outputs": [],
   "source": [
    "geodf2 = trips_pd[['dropoff_datetime','pickup_longitude', 'pickup_latitude', 'dropoff_longitude', 'dropoff_latitude']].copy()"
   ]
  },
  {
   "cell_type": "code",
   "execution_count": null,
   "id": "14909542-17b6-480c-80e5-5d1a5ebadc92",
   "metadata": {},
   "outputs": [],
   "source": [
    "# remove as linhas que não são do ano de 2010\n",
    "geodf2 = geodf.drop(geodf[geodf['dropoff_datetime'].dt.year != 2010].index)"
   ]
  },
  {
   "cell_type": "code",
   "execution_count": null,
   "id": "c682f956-01d5-4511-b5ca-2ee3aef314ef",
   "metadata": {},
   "outputs": [],
   "source": [
    "geodf2.reset_index(inplace=True, drop=True)"
   ]
  },
  {
   "cell_type": "code",
   "execution_count": null,
   "id": "4b09d543-ef96-4094-8a48-42b7cc218664",
   "metadata": {},
   "outputs": [],
   "source": [
    "# cria pontos a partir da longitude e latitude e adiciona na coluna geometry \n",
    "geometry = [Point(xy) for xy in zip(geodf2['dropoff_longitude'], geodf2['dropoff_latitude'])]\n",
    "geometry[:3]"
   ]
  },
  {
   "cell_type": "code",
   "execution_count": null,
   "id": "1bb66db0-ddf5-4c01-86ee-a81e2306b2e2",
   "metadata": {},
   "outputs": [],
   "source": [
    "geo_df2 = gpd.GeoDataFrame(geodf2, crs = crs, geometry = geometry)"
   ]
  },
  {
   "cell_type": "code",
   "execution_count": null,
   "id": "88d3d281-e421-4069-bdf5-cfd726c71d1e",
   "metadata": {},
   "outputs": [],
   "source": [
    "geo2 = geo_df2[['geometry','dropoff_datetime']].copy()"
   ]
  },
  {
   "cell_type": "code",
   "execution_count": null,
   "id": "98127bfe-e532-4e41-b7fc-6417028d41de",
   "metadata": {},
   "outputs": [],
   "source": [
    "dropoff_map = geo2.to_crs(epsg=3857)"
   ]
  },
  {
   "cell_type": "code",
   "execution_count": null,
   "id": "d72d522c-d20d-4133-a3d4-17fd580f637f",
   "metadata": {},
   "outputs": [],
   "source": [
    "# visualização dos pontos no mapa\n",
    "ax = dropoff_map.plot(figsize=(15, 15), alpha=0.5, edgecolor='k')\n",
    "cx.add_basemap(ax, source=cx.providers.Stamen.TonerLite)"
   ]
  }
 ],
 "metadata": {
  "kernelspec": {
   "display_name": "Python 3",
   "language": "python",
   "name": "python3"
  },
  "language_info": {
   "codemirror_mode": {
    "name": "ipython",
    "version": 3
   },
   "file_extension": ".py",
   "mimetype": "text/x-python",
   "name": "python",
   "nbconvert_exporter": "python",
   "pygments_lexer": "ipython3",
   "version": "3.8.8"
  },
  "toc-autonumbering": false,
  "toc-showcode": true
 },
 "nbformat": 4,
 "nbformat_minor": 5
}
